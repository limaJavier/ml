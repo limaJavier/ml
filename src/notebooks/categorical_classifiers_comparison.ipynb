{
 "cells": [
  {
   "cell_type": "markdown",
   "metadata": {},
   "source": [
    "![](./images/restaurant_example.png)"
   ]
  },
  {
   "cell_type": "code",
   "execution_count": 1,
   "metadata": {},
   "outputs": [],
   "source": [
    "X = [\n",
    "    [1, 0, 0, 1, 1, 2, 0, 1, 0, 0],\n",
    "    [1, 0, 0, 1, 2, 0, 0, 0, 3, 2],\n",
    "    [0, 1, 0, 0, 1, 0, 0, 0, 2, 0],\n",
    "    [1, 0, 1, 1, 2, 0, 1, 0, 3, 1],\n",
    "    [1, 0, 1, 0, 2, 2, 0, 1, 0, 3],\n",
    "    [0, 1, 0, 1, 2, 1, 1, 1, 1, 0],\n",
    "    [0, 1, 0, 0, 0, 0, 1, 0, 2, 0],\n",
    "    [0, 0, 0, 1, 1, 1, 1, 1, 3, 0],\n",
    "    [0, 1, 1, 0, 2, 0, 1, 0, 2, 3],\n",
    "    [1, 1, 1, 1, 2, 2, 0, 1, 1, 1],\n",
    "    [0, 0, 0, 0, 0, 0, 0, 0, 3, 0],\n",
    "    [1, 1, 1, 1, 2, 0, 0, 0, 2, 2],\n",
    "]\n",
    "\n",
    "y = [\n",
    "    1,\n",
    "    0,\n",
    "    1,\n",
    "    1,\n",
    "    0,\n",
    "    1,\n",
    "    0,\n",
    "    1,\n",
    "    0,\n",
    "    0,\n",
    "    0,\n",
    "    1,\n",
    "]"
   ]
  },
  {
   "cell_type": "code",
   "execution_count": 2,
   "metadata": {},
   "outputs": [],
   "source": [
    "import pandas as pd\n",
    "import sklearn.naive_bayes\n",
    "import numpy as np\n",
    "from decision_tree import DecisionTreeClassifier\n",
    "from naive_bayes import NaiveBayesClassifier\n",
    "from neural_network import NeuralNetwork"
   ]
  },
  {
   "cell_type": "markdown",
   "metadata": {},
   "source": [
    "**Discrete Decision Tree Classifier**"
   ]
  },
  {
   "cell_type": "code",
   "execution_count": 3,
   "metadata": {},
   "outputs": [],
   "source": [
    "\n",
    "_attributes = {\n",
    "    0: {0, 1},\n",
    "    1: {0, 1},\n",
    "    2: {0, 1},\n",
    "    3: {0, 1},\n",
    "    4: {0, 1, 2},\n",
    "    5: {0, 1, 2},\n",
    "    6: {0, 1},\n",
    "    7: {0, 1},\n",
    "    8: {0, 1, 2, 3},\n",
    "    9: {0, 1, 2, 3}\n",
    "}\n",
    "\n",
    "_range = {0, 1}\n",
    "\n",
    "decision_tree = DecisionTreeClassifier(_attributes, _range).fit(X, y)"
   ]
  },
  {
   "cell_type": "markdown",
   "metadata": {},
   "source": [
    "**Naive Bayes Classifier**"
   ]
  },
  {
   "cell_type": "code",
   "execution_count": 4,
   "metadata": {},
   "outputs": [],
   "source": [
    "naive_bayes = NaiveBayesClassifier(0.001, [2, 2, 2, 2, 2, 3, 3, 2, 2, 4, 4]).fit(X, y)\n",
    "sklearn_naive_bayes = sklearn.naive_bayes.CategoricalNB().fit(X, y)"
   ]
  },
  {
   "cell_type": "markdown",
   "metadata": {},
   "source": [
    "**Feedforward Neural Networks**"
   ]
  },
  {
   "cell_type": "code",
   "execution_count": 5,
   "metadata": {},
   "outputs": [],
   "source": [
    "logistic_function = lambda x: 1 / (1 + np.exp(-x))\n",
    "logistic_function_derivative = lambda x: logistic_function(x) * (1 - logistic_function(x))\n",
    "\n",
    "nn = NeuralNetwork(\n",
    "        [\n",
    "        (10, None), \n",
    "        (10, (logistic_function, logistic_function_derivative)),\n",
    "        (10, (logistic_function, logistic_function_derivative)),\n",
    "        (1, (logistic_function, logistic_function_derivative))\n",
    "        ],\n",
    "        (-10, 10))\n",
    "\n",
    "_y = [[x] for x in y]\n",
    "nn.fit(X, _y, learning_rate=1, error_threshold=0.15)"
   ]
  },
  {
   "cell_type": "markdown",
   "metadata": {},
   "source": [
    "**Comparison**"
   ]
  },
  {
   "cell_type": "code",
   "execution_count": 6,
   "metadata": {},
   "outputs": [
    {
     "data": {
      "text/html": [
       "<div>\n",
       "<style scoped>\n",
       "    .dataframe tbody tr th:only-of-type {\n",
       "        vertical-align: middle;\n",
       "    }\n",
       "\n",
       "    .dataframe tbody tr th {\n",
       "        vertical-align: top;\n",
       "    }\n",
       "\n",
       "    .dataframe thead th {\n",
       "        text-align: right;\n",
       "    }\n",
       "</style>\n",
       "<table border=\"1\" class=\"dataframe\">\n",
       "  <thead>\n",
       "    <tr style=\"text-align: right;\">\n",
       "      <th></th>\n",
       "      <th>0</th>\n",
       "      <th>1</th>\n",
       "      <th>2</th>\n",
       "      <th>3</th>\n",
       "      <th>4</th>\n",
       "      <th>5</th>\n",
       "      <th>6</th>\n",
       "      <th>7</th>\n",
       "      <th>8</th>\n",
       "      <th>9</th>\n",
       "      <th>10</th>\n",
       "      <th>11</th>\n",
       "    </tr>\n",
       "  </thead>\n",
       "  <tbody>\n",
       "    <tr>\n",
       "      <th>0</th>\n",
       "      <td>1</td>\n",
       "      <td>0</td>\n",
       "      <td>1</td>\n",
       "      <td>1</td>\n",
       "      <td>0</td>\n",
       "      <td>1</td>\n",
       "      <td>0</td>\n",
       "      <td>1</td>\n",
       "      <td>0</td>\n",
       "      <td>0</td>\n",
       "      <td>0</td>\n",
       "      <td>1</td>\n",
       "    </tr>\n",
       "    <tr>\n",
       "      <th>1</th>\n",
       "      <td>1</td>\n",
       "      <td>1</td>\n",
       "      <td>1</td>\n",
       "      <td>1</td>\n",
       "      <td>0</td>\n",
       "      <td>1</td>\n",
       "      <td>0</td>\n",
       "      <td>1</td>\n",
       "      <td>0</td>\n",
       "      <td>0</td>\n",
       "      <td>0</td>\n",
       "      <td>0</td>\n",
       "    </tr>\n",
       "    <tr>\n",
       "      <th>2</th>\n",
       "      <td>1</td>\n",
       "      <td>1</td>\n",
       "      <td>1</td>\n",
       "      <td>1</td>\n",
       "      <td>0</td>\n",
       "      <td>1</td>\n",
       "      <td>0</td>\n",
       "      <td>1</td>\n",
       "      <td>0</td>\n",
       "      <td>0</td>\n",
       "      <td>0</td>\n",
       "      <td>0</td>\n",
       "    </tr>\n",
       "    <tr>\n",
       "      <th>3</th>\n",
       "      <td>1</td>\n",
       "      <td>0</td>\n",
       "      <td>1</td>\n",
       "      <td>1</td>\n",
       "      <td>0</td>\n",
       "      <td>1</td>\n",
       "      <td>1</td>\n",
       "      <td>1</td>\n",
       "      <td>0</td>\n",
       "      <td>0</td>\n",
       "      <td>0</td>\n",
       "      <td>1</td>\n",
       "    </tr>\n",
       "  </tbody>\n",
       "</table>\n",
       "</div>"
      ],
      "text/plain": [
       "   0   1   2   3   4   5   6   7   8   9   10  11\n",
       "0   1   0   1   1   0   1   0   1   0   0   0   1\n",
       "1   1   1   1   1   0   1   0   1   0   0   0   0\n",
       "2   1   1   1   1   0   1   0   1   0   0   0   0\n",
       "3   1   0   1   1   0   1   1   1   0   0   0   1"
      ]
     },
     "execution_count": 6,
     "metadata": {},
     "output_type": "execute_result"
    }
   ],
   "source": [
    "matrix = [\n",
    "    decision_tree.predict(X),\n",
    "    naive_bayes.predict(X),\n",
    "    sklearn_naive_bayes.predict(X),\n",
    "    [1 if x[0] >= 0.5 else 0 for x in nn.predict(X)]\n",
    "]\n",
    "\n",
    "matrix = pd.DataFrame(matrix)\n",
    "matrix"
   ]
  }
 ],
 "metadata": {
  "kernelspec": {
   "display_name": "Python 3",
   "language": "python",
   "name": "python3"
  },
  "language_info": {
   "codemirror_mode": {
    "name": "ipython",
    "version": 3
   },
   "file_extension": ".py",
   "mimetype": "text/x-python",
   "name": "python",
   "nbconvert_exporter": "python",
   "pygments_lexer": "ipython3",
   "version": "3.10.12"
  }
 },
 "nbformat": 4,
 "nbformat_minor": 2
}
